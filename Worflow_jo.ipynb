{
 "cells": [
  {
   "cell_type": "code",
   "execution_count": 274,
   "metadata": {},
   "outputs": [],
   "source": [
    "import matplotlib.pyplot as plt\n",
    "from sklearn.model_selection import train_test_split\n",
    "import numpy as np\n",
    "import pandas as pd\n",
    "import seaborn as sns\n",
    "\n",
    "from sklearn.preprocessing import OneHotEncoder\n",
    "from sklearn.compose import ColumnTransformer\n",
    "from sklearn.impute import SimpleImputer\n",
    "from sklearn.preprocessing import StandardScaler\n",
    "from sklearn.linear_model import LinearRegression\n",
    "from sklearn import set_config\n",
    "set_config(display=\"diagram\")"
   ]
  },
  {
   "cell_type": "code",
   "execution_count": 275,
   "metadata": {},
   "outputs": [
    {
     "data": {
      "text/html": [
       "<div>\n",
       "<style scoped>\n",
       "    .dataframe tbody tr th:only-of-type {\n",
       "        vertical-align: middle;\n",
       "    }\n",
       "\n",
       "    .dataframe tbody tr th {\n",
       "        vertical-align: top;\n",
       "    }\n",
       "\n",
       "    .dataframe thead th {\n",
       "        text-align: right;\n",
       "    }\n",
       "</style>\n",
       "<table border=\"1\" class=\"dataframe\">\n",
       "  <thead>\n",
       "    <tr style=\"text-align: right;\">\n",
       "      <th></th>\n",
       "      <th>Mois</th>\n",
       "      <th>Qualité</th>\n",
       "      <th>Territoire</th>\n",
       "      <th>Production totale</th>\n",
       "      <th>Consommation totale</th>\n",
       "      <th>Solde exportateur</th>\n",
       "    </tr>\n",
       "  </thead>\n",
       "  <tbody>\n",
       "    <tr>\n",
       "      <th>0</th>\n",
       "      <td>0000-00</td>\n",
       "      <td>Données consolidées</td>\n",
       "      <td>Grand-Est</td>\n",
       "      <td>7296</td>\n",
       "      <td>3364</td>\n",
       "      <td>3876.0</td>\n",
       "    </tr>\n",
       "    <tr>\n",
       "      <th>1</th>\n",
       "      <td>0000-00</td>\n",
       "      <td>Données définitives</td>\n",
       "      <td>Nouvelle-Aquitaine</td>\n",
       "      <td>4523</td>\n",
       "      <td>3222</td>\n",
       "      <td>1300.0</td>\n",
       "    </tr>\n",
       "    <tr>\n",
       "      <th>2</th>\n",
       "      <td>0000-00</td>\n",
       "      <td>Données définitives</td>\n",
       "      <td>Auvergne-Rhône-Alpes</td>\n",
       "      <td>8890</td>\n",
       "      <td>5010</td>\n",
       "      <td>3658.0</td>\n",
       "    </tr>\n",
       "    <tr>\n",
       "      <th>3</th>\n",
       "      <td>0000-00</td>\n",
       "      <td>Données définitives</td>\n",
       "      <td>Bourgogne-Franche-Comté</td>\n",
       "      <td>152</td>\n",
       "      <td>1533</td>\n",
       "      <td>-1383.0</td>\n",
       "    </tr>\n",
       "    <tr>\n",
       "      <th>4</th>\n",
       "      <td>0000-00</td>\n",
       "      <td>Données définitives</td>\n",
       "      <td>Bretagne</td>\n",
       "      <td>197</td>\n",
       "      <td>1493</td>\n",
       "      <td>-1300.0</td>\n",
       "    </tr>\n",
       "  </tbody>\n",
       "</table>\n",
       "</div>"
      ],
      "text/plain": [
       "      Mois              Qualité               Territoire  Production totale  \\\n",
       "0  0000-00  Données consolidées                Grand-Est               7296   \n",
       "1  0000-00  Données définitives       Nouvelle-Aquitaine               4523   \n",
       "2  0000-00  Données définitives     Auvergne-Rhône-Alpes               8890   \n",
       "3  0000-00  Données définitives  Bourgogne-Franche-Comté                152   \n",
       "4  0000-00  Données définitives                 Bretagne                197   \n",
       "\n",
       "   Consommation totale  Solde exportateur  \n",
       "0                 3364             3876.0  \n",
       "1                 3222             1300.0  \n",
       "2                 5010             3658.0  \n",
       "3                 1533            -1383.0  \n",
       "4                 1493            -1300.0  "
      ]
     },
     "execution_count": 275,
     "metadata": {},
     "output_type": "execute_result"
    }
   ],
   "source": [
    "data = pd.read_csv(\"eco.csv\", sep=';')\n",
    "data.head()"
   ]
  },
  {
   "cell_type": "code",
   "execution_count": 276,
   "metadata": {},
   "outputs": [
    {
     "data": {
      "text/plain": [
       "Mois                    0\n",
       "Qualité                 0\n",
       "Territoire              0\n",
       "Production totale       0\n",
       "Consommation totale     0\n",
       "Solde exportateur      84\n",
       "dtype: int64"
      ]
     },
     "execution_count": 276,
     "metadata": {},
     "output_type": "execute_result"
    }
   ],
   "source": [
    "data.isnull().sum()\n"
   ]
  },
  {
   "cell_type": "code",
   "execution_count": 277,
   "metadata": {},
   "outputs": [
    {
     "data": {
      "text/plain": [
       "<AxesSubplot:>"
      ]
     },
     "execution_count": 277,
     "metadata": {},
     "output_type": "execute_result"
    },
    {
     "data": {
      "image/png": "[encoded data removed]",
      "text/plain": [
       "<Figure size 432x288 with 2 Axes>"
      ]
     },
     "metadata": {
      "needs_background": "light"
     },
     "output_type": "display_data"
    }
   ],
   "source": [
    "sns.heatmap(data.corr(),annot=True)"
   ]
  },
  {
   "cell_type": "code",
   "execution_count": 278,
   "metadata": {},
   "outputs": [
    {
     "data": {
      "text/html": [
       "<div>\n",
       "<style scoped>\n",
       "    .dataframe tbody tr th:only-of-type {\n",
       "        vertical-align: middle;\n",
       "    }\n",
       "\n",
       "    .dataframe tbody tr th {\n",
       "        vertical-align: top;\n",
       "    }\n",
       "\n",
       "    .dataframe thead th {\n",
       "        text-align: right;\n",
       "    }\n",
       "</style>\n",
       "<table border=\"1\" class=\"dataframe\">\n",
       "  <thead>\n",
       "    <tr style=\"text-align: right;\">\n",
       "      <th></th>\n",
       "      <th>Mois</th>\n",
       "      <th>Qualité</th>\n",
       "      <th>Territoire</th>\n",
       "      <th>Production totale</th>\n",
       "      <th>Consommation totale</th>\n",
       "    </tr>\n",
       "  </thead>\n",
       "  <tbody>\n",
       "    <tr>\n",
       "      <th>205</th>\n",
       "      <td>01</td>\n",
       "      <td>Données consolidées</td>\n",
       "      <td>Grand-Est</td>\n",
       "      <td>10126</td>\n",
       "      <td>4594</td>\n",
       "    </tr>\n",
       "    <tr>\n",
       "      <th>206</th>\n",
       "      <td>01</td>\n",
       "      <td>Données définitives</td>\n",
       "      <td>Nouvelle-Aquitaine</td>\n",
       "      <td>4688</td>\n",
       "      <td>4501</td>\n",
       "    </tr>\n",
       "    <tr>\n",
       "      <th>207</th>\n",
       "      <td>01</td>\n",
       "      <td>Données définitives</td>\n",
       "      <td>Auvergne-Rhône-Alpes</td>\n",
       "      <td>13001</td>\n",
       "      <td>6693</td>\n",
       "    </tr>\n",
       "    <tr>\n",
       "      <th>208</th>\n",
       "      <td>01</td>\n",
       "      <td>Données définitives</td>\n",
       "      <td>Bourgogne-Franche-Comté</td>\n",
       "      <td>301</td>\n",
       "      <td>2158</td>\n",
       "    </tr>\n",
       "    <tr>\n",
       "      <th>209</th>\n",
       "      <td>01</td>\n",
       "      <td>Données définitives</td>\n",
       "      <td>Bretagne</td>\n",
       "      <td>345</td>\n",
       "      <td>2390</td>\n",
       "    </tr>\n",
       "    <tr>\n",
       "      <th>...</th>\n",
       "      <td>...</td>\n",
       "      <td>...</td>\n",
       "      <td>...</td>\n",
       "      <td>...</td>\n",
       "      <td>...</td>\n",
       "    </tr>\n",
       "    <tr>\n",
       "      <th>1136</th>\n",
       "      <td>12</td>\n",
       "      <td>Données définitives</td>\n",
       "      <td>Occitanie</td>\n",
       "      <td>2550</td>\n",
       "      <td>2988</td>\n",
       "    </tr>\n",
       "    <tr>\n",
       "      <th>1137</th>\n",
       "      <td>12</td>\n",
       "      <td>Données définitives</td>\n",
       "      <td>Normandie</td>\n",
       "      <td>4796</td>\n",
       "      <td>1907</td>\n",
       "    </tr>\n",
       "    <tr>\n",
       "      <th>1138</th>\n",
       "      <td>12</td>\n",
       "      <td>Données définitives</td>\n",
       "      <td>Hauts-de-France</td>\n",
       "      <td>3760</td>\n",
       "      <td>3617</td>\n",
       "    </tr>\n",
       "    <tr>\n",
       "      <th>1139</th>\n",
       "      <td>12</td>\n",
       "      <td>Données définitives</td>\n",
       "      <td>PACA</td>\n",
       "      <td>1563</td>\n",
       "      <td>3331</td>\n",
       "    </tr>\n",
       "    <tr>\n",
       "      <th>1140</th>\n",
       "      <td>12</td>\n",
       "      <td>Données définitives</td>\n",
       "      <td>Pays-de-la-Loire</td>\n",
       "      <td>488</td>\n",
       "      <td>1931</td>\n",
       "    </tr>\n",
       "  </tbody>\n",
       "</table>\n",
       "<p>864 rows × 5 columns</p>\n",
       "</div>"
      ],
      "text/plain": [
       "     Mois              Qualité               Territoire  Production totale  \\\n",
       "205    01  Données consolidées                Grand-Est              10126   \n",
       "206    01  Données définitives       Nouvelle-Aquitaine               4688   \n",
       "207    01  Données définitives     Auvergne-Rhône-Alpes              13001   \n",
       "208    01  Données définitives  Bourgogne-Franche-Comté                301   \n",
       "209    01  Données définitives                 Bretagne                345   \n",
       "...   ...                  ...                      ...                ...   \n",
       "1136   12  Données définitives                Occitanie               2550   \n",
       "1137   12  Données définitives                Normandie               4796   \n",
       "1138   12  Données définitives          Hauts-de-France               3760   \n",
       "1139   12  Données définitives                     PACA               1563   \n",
       "1140   12  Données définitives         Pays-de-la-Loire                488   \n",
       "\n",
       "      Consommation totale  \n",
       "205                  4594  \n",
       "206                  4501  \n",
       "207                  6693  \n",
       "208                  2158  \n",
       "209                  2390  \n",
       "...                   ...  \n",
       "1136                 2988  \n",
       "1137                 1907  \n",
       "1138                 3617  \n",
       "1139                 3331  \n",
       "1140                 1931  \n",
       "\n",
       "[864 rows x 5 columns]"
      ]
     },
     "execution_count": 278,
     "metadata": {},
     "output_type": "execute_result"
    }
   ],
   "source": [
    "data.drop(data[data['Consommation totale']== 0].index, inplace = True)\n",
    "data=data[data.Mois!=\"0000-00\"]\n",
    "data=data[data.Territoire!=\"France\"]\n",
    "data['Mois'] = data['Mois'].str[5:]\n",
    "del data['Solde exportateur']\n",
    "data"
   ]
  },
  {
   "cell_type": "code",
   "execution_count": 279,
   "metadata": {},
   "outputs": [
    {
     "data": {
      "image/png": "[encoded data removed]",
      "text/plain": [
       "<Figure size 360x360 with 1 Axes>"
      ]
     },
     "metadata": {
      "needs_background": "light"
     },
     "output_type": "display_data"
    }
   ],
   "source": [
    "plt.figure(figsize=(5, 5))\n",
    "\n",
    "plt.scatter(data['Mois'], data['Consommation totale']);\n",
    "plt.xlabel('Mois')\n",
    "plt.ylabel('Consommation totale')\n",
    "plt.title('Nuages de points entre les mois et la consommation totale')\n",
    "plt.show()"
   ]
  },
  {
   "cell_type": "code",
   "execution_count": 280,
   "metadata": {},
   "outputs": [
    {
     "data": {
      "text/html": [
       "<div>\n",
       "<style scoped>\n",
       "    .dataframe tbody tr th:only-of-type {\n",
       "        vertical-align: middle;\n",
       "    }\n",
       "\n",
       "    .dataframe tbody tr th {\n",
       "        vertical-align: top;\n",
       "    }\n",
       "\n",
       "    .dataframe thead th {\n",
       "        text-align: right;\n",
       "    }\n",
       "</style>\n",
       "<table border=\"1\" class=\"dataframe\">\n",
       "  <thead>\n",
       "    <tr style=\"text-align: right;\">\n",
       "      <th></th>\n",
       "      <th>Mois</th>\n",
       "      <th>Qualité</th>\n",
       "      <th>Territoire</th>\n",
       "      <th>Production totale</th>\n",
       "      <th>Consommation totale</th>\n",
       "    </tr>\n",
       "  </thead>\n",
       "  <tbody>\n",
       "    <tr>\n",
       "      <th>1136</th>\n",
       "      <td>12</td>\n",
       "      <td>Données définitives</td>\n",
       "      <td>Occitanie</td>\n",
       "      <td>2550</td>\n",
       "      <td>2988</td>\n",
       "    </tr>\n",
       "    <tr>\n",
       "      <th>1137</th>\n",
       "      <td>12</td>\n",
       "      <td>Données définitives</td>\n",
       "      <td>Normandie</td>\n",
       "      <td>4796</td>\n",
       "      <td>1907</td>\n",
       "    </tr>\n",
       "    <tr>\n",
       "      <th>1138</th>\n",
       "      <td>12</td>\n",
       "      <td>Données définitives</td>\n",
       "      <td>Hauts-de-France</td>\n",
       "      <td>3760</td>\n",
       "      <td>3617</td>\n",
       "    </tr>\n",
       "    <tr>\n",
       "      <th>1139</th>\n",
       "      <td>12</td>\n",
       "      <td>Données définitives</td>\n",
       "      <td>PACA</td>\n",
       "      <td>1563</td>\n",
       "      <td>3331</td>\n",
       "    </tr>\n",
       "    <tr>\n",
       "      <th>1140</th>\n",
       "      <td>12</td>\n",
       "      <td>Données définitives</td>\n",
       "      <td>Pays-de-la-Loire</td>\n",
       "      <td>488</td>\n",
       "      <td>1931</td>\n",
       "    </tr>\n",
       "  </tbody>\n",
       "</table>\n",
       "</div>"
      ],
      "text/plain": [
       "     Mois              Qualité        Territoire  Production totale  \\\n",
       "1136   12  Données définitives         Occitanie               2550   \n",
       "1137   12  Données définitives         Normandie               4796   \n",
       "1138   12  Données définitives   Hauts-de-France               3760   \n",
       "1139   12  Données définitives              PACA               1563   \n",
       "1140   12  Données définitives  Pays-de-la-Loire                488   \n",
       "\n",
       "      Consommation totale  \n",
       "1136                 2988  \n",
       "1137                 1907  \n",
       "1138                 3617  \n",
       "1139                 3331  \n",
       "1140                 1931  "
      ]
     },
     "execution_count": 280,
     "metadata": {},
     "output_type": "execute_result"
    }
   ],
   "source": [
    "data.tail()"
   ]
  },
  {
   "cell_type": "code",
   "execution_count": 281,
   "metadata": {},
   "outputs": [
    {
     "data": {
      "text/plain": [
       "(864, 5)"
      ]
     },
     "execution_count": 281,
     "metadata": {},
     "output_type": "execute_result"
    }
   ],
   "source": [
    "data.shape"
   ]
  },
  {
   "cell_type": "code",
   "execution_count": 282,
   "metadata": {},
   "outputs": [
    {
     "name": "stdout",
     "output_type": "stream",
     "text": [
      "<class 'pandas.core.frame.DataFrame'>\n",
      "Int64Index: 864 entries, 205 to 1140\n",
      "Data columns (total 5 columns):\n",
      " #   Column               Non-Null Count  Dtype \n",
      "---  ------               --------------  ----- \n",
      " 0   Mois                 864 non-null    object\n",
      " 1   Qualité              864 non-null    object\n",
      " 2   Territoire           864 non-null    object\n",
      " 3   Production totale    864 non-null    int64 \n",
      " 4   Consommation totale  864 non-null    int64 \n",
      "dtypes: int64(2), object(3)\n",
      "memory usage: 40.5+ KB\n"
     ]
    }
   ],
   "source": [
    "data.info()"
   ]
  },
  {
   "cell_type": "code",
   "execution_count": 283,
   "metadata": {},
   "outputs": [
    {
     "data": {
      "text/html": [
       "<div>\n",
       "<style scoped>\n",
       "    .dataframe tbody tr th:only-of-type {\n",
       "        vertical-align: middle;\n",
       "    }\n",
       "\n",
       "    .dataframe tbody tr th {\n",
       "        vertical-align: top;\n",
       "    }\n",
       "\n",
       "    .dataframe thead th {\n",
       "        text-align: right;\n",
       "    }\n",
       "</style>\n",
       "<table border=\"1\" class=\"dataframe\">\n",
       "  <thead>\n",
       "    <tr style=\"text-align: right;\">\n",
       "      <th></th>\n",
       "      <th>Production totale</th>\n",
       "      <th>Consommation totale</th>\n",
       "    </tr>\n",
       "  </thead>\n",
       "  <tbody>\n",
       "    <tr>\n",
       "      <th>count</th>\n",
       "      <td>864.000000</td>\n",
       "      <td>864.000000</td>\n",
       "    </tr>\n",
       "    <tr>\n",
       "      <th>mean</th>\n",
       "      <td>3719.217593</td>\n",
       "      <td>3271.263889</td>\n",
       "    </tr>\n",
       "    <tr>\n",
       "      <th>std</th>\n",
       "      <td>3305.426553</td>\n",
       "      <td>1506.315618</td>\n",
       "    </tr>\n",
       "    <tr>\n",
       "      <th>min</th>\n",
       "      <td>92.000000</td>\n",
       "      <td>1170.000000</td>\n",
       "    </tr>\n",
       "    <tr>\n",
       "      <th>25%</th>\n",
       "      <td>449.000000</td>\n",
       "      <td>1970.750000</td>\n",
       "    </tr>\n",
       "    <tr>\n",
       "      <th>50%</th>\n",
       "      <td>3246.000000</td>\n",
       "      <td>3009.000000</td>\n",
       "    </tr>\n",
       "    <tr>\n",
       "      <th>75%</th>\n",
       "      <td>5878.250000</td>\n",
       "      <td>4225.250000</td>\n",
       "    </tr>\n",
       "    <tr>\n",
       "      <th>max</th>\n",
       "      <td>13001.000000</td>\n",
       "      <td>8894.000000</td>\n",
       "    </tr>\n",
       "  </tbody>\n",
       "</table>\n",
       "</div>"
      ],
      "text/plain": [
       "       Production totale  Consommation totale\n",
       "count         864.000000           864.000000\n",
       "mean         3719.217593          3271.263889\n",
       "std          3305.426553          1506.315618\n",
       "min            92.000000          1170.000000\n",
       "25%           449.000000          1970.750000\n",
       "50%          3246.000000          3009.000000\n",
       "75%          5878.250000          4225.250000\n",
       "max         13001.000000          8894.000000"
      ]
     },
     "execution_count": 283,
     "metadata": {},
     "output_type": "execute_result"
    }
   ],
   "source": [
    "data.describe()"
   ]
  },
  {
   "cell_type": "code",
   "execution_count": 284,
   "metadata": {},
   "outputs": [],
   "source": [
    "y = data['Consommation totale']\n",
    "X = data[['Mois', 'Territoire']]"
   ]
  },
  {
   "cell_type": "code",
   "execution_count": 285,
   "metadata": {},
   "outputs": [],
   "source": [
    "X_train, X_test, y_train, y_test = train_test_split(X, y, test_size=0.3)"
   ]
  },
  {
   "cell_type": "code",
   "execution_count": 286,
   "metadata": {},
   "outputs": [],
   "source": [
    "X_test = np.array(X_test)\n",
    "X_train = np.array(X_train)"
   ]
  },
  {
   "cell_type": "code",
   "execution_count": 287,
   "metadata": {},
   "outputs": [
    {
     "data": {
      "text/plain": [
       "<604x24 sparse matrix of type '<class 'numpy.float64'>'\n",
       "\twith 1208 stored elements in Compressed Sparse Row format>"
      ]
     },
     "execution_count": 287,
     "metadata": {},
     "output_type": "execute_result"
    }
   ],
   "source": [
    "onehot = OneHotEncoder()\n",
    "X_train_onehot = onehot.fit_transform(X_train) # mise à l'échelle des features (données présentes en X dans le dataset d'étude)\n",
    "X_train_onehot"
   ]
  },
  {
   "cell_type": "code",
   "execution_count": 288,
   "metadata": {},
   "outputs": [],
   "source": [
    "X_test_onehot = onehot.transform(X_test)"
   ]
  },
  {
   "cell_type": "code",
   "execution_count": 289,
   "metadata": {},
   "outputs": [
    {
     "data": {
      "text/html": [
       "<style>#sk-b414b7aa-dd95-4247-be2e-ca1a1d4da423 {color: black;background-color: white;}#sk-b414b7aa-dd95-4247-be2e-ca1a1d4da423 pre{padding: 0;}#sk-b414b7aa-dd95-4247-be2e-ca1a1d4da423 div.sk-toggleable {background-color: white;}#sk-b414b7aa-dd95-4247-be2e-ca1a1d4da423 label.sk-toggleable__label {cursor: pointer;display: block;width: 100%;margin-bottom: 0;padding: 0.3em;box-sizing: border-box;text-align: center;}#sk-b414b7aa-dd95-4247-be2e-ca1a1d4da423 label.sk-toggleable__label-arrow:before {content: \"▸\";float: left;margin-right: 0.25em;color: #696969;}#sk-b414b7aa-dd95-4247-be2e-ca1a1d4da423 label.sk-toggleable__label-arrow:hover:before {color: black;}#sk-b414b7aa-dd95-4247-be2e-ca1a1d4da423 div.sk-estimator:hover label.sk-toggleable__label-arrow:before {color: black;}#sk-b414b7aa-dd95-4247-be2e-ca1a1d4da423 div.sk-toggleable__content {max-height: 0;max-width: 0;overflow: hidden;text-align: left;background-color: #f0f8ff;}#sk-b414b7aa-dd95-4247-be2e-ca1a1d4da423 div.sk-toggleable__content pre {margin: 0.2em;color: black;border-radius: 0.25em;background-color: #f0f8ff;}#sk-b414b7aa-dd95-4247-be2e-ca1a1d4da423 input.sk-toggleable__control:checked~div.sk-toggleable__content {max-height: 200px;max-width: 100%;overflow: auto;}#sk-b414b7aa-dd95-4247-be2e-ca1a1d4da423 input.sk-toggleable__control:checked~label.sk-toggleable__label-arrow:before {content: \"▾\";}#sk-b414b7aa-dd95-4247-be2e-ca1a1d4da423 div.sk-estimator input.sk-toggleable__control:checked~label.sk-toggleable__label {background-color: #d4ebff;}#sk-b414b7aa-dd95-4247-be2e-ca1a1d4da423 div.sk-label input.sk-toggleable__control:checked~label.sk-toggleable__label {background-color: #d4ebff;}#sk-b414b7aa-dd95-4247-be2e-ca1a1d4da423 input.sk-hidden--visually {border: 0;clip: rect(1px 1px 1px 1px);clip: rect(1px, 1px, 1px, 1px);height: 1px;margin: -1px;overflow: hidden;padding: 0;position: absolute;width: 1px;}#sk-b414b7aa-dd95-4247-be2e-ca1a1d4da423 div.sk-estimator {font-family: monospace;background-color: #f0f8ff;border: 1px dotted black;border-radius: 0.25em;box-sizing: border-box;margin-bottom: 0.5em;}#sk-b414b7aa-dd95-4247-be2e-ca1a1d4da423 div.sk-estimator:hover {background-color: #d4ebff;}#sk-b414b7aa-dd95-4247-be2e-ca1a1d4da423 div.sk-parallel-item::after {content: \"\";width: 100%;border-bottom: 1px solid gray;flex-grow: 1;}#sk-b414b7aa-dd95-4247-be2e-ca1a1d4da423 div.sk-label:hover label.sk-toggleable__label {background-color: #d4ebff;}#sk-b414b7aa-dd95-4247-be2e-ca1a1d4da423 div.sk-serial::before {content: \"\";position: absolute;border-left: 1px solid gray;box-sizing: border-box;top: 2em;bottom: 0;left: 50%;}#sk-b414b7aa-dd95-4247-be2e-ca1a1d4da423 div.sk-serial {display: flex;flex-direction: column;align-items: center;background-color: white;padding-right: 0.2em;padding-left: 0.2em;}#sk-b414b7aa-dd95-4247-be2e-ca1a1d4da423 div.sk-item {z-index: 1;}#sk-b414b7aa-dd95-4247-be2e-ca1a1d4da423 div.sk-parallel {display: flex;align-items: stretch;justify-content: center;background-color: white;}#sk-b414b7aa-dd95-4247-be2e-ca1a1d4da423 div.sk-parallel::before {content: \"\";position: absolute;border-left: 1px solid gray;box-sizing: border-box;top: 2em;bottom: 0;left: 50%;}#sk-b414b7aa-dd95-4247-be2e-ca1a1d4da423 div.sk-parallel-item {display: flex;flex-direction: column;position: relative;background-color: white;}#sk-b414b7aa-dd95-4247-be2e-ca1a1d4da423 div.sk-parallel-item:first-child::after {align-self: flex-end;width: 50%;}#sk-b414b7aa-dd95-4247-be2e-ca1a1d4da423 div.sk-parallel-item:last-child::after {align-self: flex-start;width: 50%;}#sk-b414b7aa-dd95-4247-be2e-ca1a1d4da423 div.sk-parallel-item:only-child::after {width: 0;}#sk-b414b7aa-dd95-4247-be2e-ca1a1d4da423 div.sk-dashed-wrapped {border: 1px dashed gray;margin: 0 0.4em 0.5em 0.4em;box-sizing: border-box;padding-bottom: 0.4em;background-color: white;position: relative;}#sk-b414b7aa-dd95-4247-be2e-ca1a1d4da423 div.sk-label label {font-family: monospace;font-weight: bold;background-color: white;display: inline-block;line-height: 1.2em;}#sk-b414b7aa-dd95-4247-be2e-ca1a1d4da423 div.sk-label-container {position: relative;z-index: 2;text-align: center;}#sk-b414b7aa-dd95-4247-be2e-ca1a1d4da423 div.sk-container {/* jupyter's `normalize.less` sets `[hidden] { display: none; }` but bootstrap.min.css set `[hidden] { display: none !important; }` so we also need the `!important` here to be able to override the default hidden behavior on the sphinx rendered scikit-learn.org. See: https://github.com/scikit-learn/scikit-learn/issues/21755 */display: inline-block !important;position: relative;}#sk-b414b7aa-dd95-4247-be2e-ca1a1d4da423 div.sk-text-repr-fallback {display: none;}</style><div id=\"sk-b414b7aa-dd95-4247-be2e-ca1a1d4da423\" class=\"sk-top-container\"><div class=\"sk-text-repr-fallback\"><pre>LinearRegression()</pre><b>Please rerun this cell to show the HTML repr or trust the notebook.</b></div><div class=\"sk-container\" hidden><div class=\"sk-item\"><div class=\"sk-estimator sk-toggleable\"><input class=\"sk-toggleable__control sk-hidden--visually\" id=\"a3984c0b-bb4d-4dae-ad20-27313b71633c\" type=\"checkbox\" checked><label for=\"a3984c0b-bb4d-4dae-ad20-27313b71633c\" class=\"sk-toggleable__label sk-toggleable__label-arrow\">LinearRegression</label><div class=\"sk-toggleable__content\"><pre>LinearRegression()</pre></div></div></div></div></div>"
      ],
      "text/plain": [
       "LinearRegression()"
      ]
     },
     "execution_count": 289,
     "metadata": {},
     "output_type": "execute_result"
    }
   ],
   "source": [
    "model = LinearRegression()\n",
    "# On établie que l'on va utiliser l'équation de type logistic regression car on cherche a obtenir une prediction sur une donnée catégorielle.\n",
    "# https://scikit-learn.org/stable/modules/generated/sklearn.linear_model.LogisticRegression.html\n",
    "# https://scikit-learn.org/stable/modules/linear_model.html#logistic-regression\n",
    "\n",
    "model.fit(X_train_onehot, y_train) # On établie l’entraînement du model soit la détermination des coefficients (a, b, etc) et autres.\n",
    "# Attention, on doit scaler le X_test afin d'avoir la même échelle que la X_train pour pouvoir faire un scoring."
   ]
  },
  {
   "cell_type": "code",
   "execution_count": 290,
   "metadata": {},
   "outputs": [
    {
     "data": {
      "text/plain": [
       "0.9481387375135321"
      ]
     },
     "execution_count": 290,
     "metadata": {},
     "output_type": "execute_result"
    }
   ],
   "source": [
    "# Ici on scale le X_test pour mettre à l'échelle les données afin de faire le scoring\n",
    "model.score(X_test_onehot, y_test) "
   ]
  },
  {
   "cell_type": "code",
   "execution_count": 297,
   "metadata": {},
   "outputs": [
    {
     "data": {
      "text/plain": [
       "array([2117.74744362])"
      ]
     },
     "execution_count": 297,
     "metadata": {},
     "output_type": "execute_result"
    }
   ],
   "source": [
    "y_predict = model.predict(X_test_onehot[0])\n",
    "# On test notre model avec une prédiction basé sur les X_test_onehot (toujours des données mise à l'échelle).\n",
    "y_predict"
   ]
  },
  {
   "cell_type": "code",
   "execution_count": 295,
   "metadata": {},
   "outputs": [
    {
     "data": {
      "text/html": [
       "<div>\n",
       "<style scoped>\n",
       "    .dataframe tbody tr th:only-of-type {\n",
       "        vertical-align: middle;\n",
       "    }\n",
       "\n",
       "    .dataframe tbody tr th {\n",
       "        vertical-align: top;\n",
       "    }\n",
       "\n",
       "    .dataframe thead th {\n",
       "        text-align: right;\n",
       "    }\n",
       "</style>\n",
       "<table border=\"1\" class=\"dataframe\">\n",
       "  <thead>\n",
       "    <tr style=\"text-align: right;\">\n",
       "      <th></th>\n",
       "      <th>Mois</th>\n",
       "      <th>Territoire</th>\n",
       "    </tr>\n",
       "  </thead>\n",
       "  <tbody>\n",
       "    <tr>\n",
       "      <th>0</th>\n",
       "      <td>03</td>\n",
       "      <td>PACA</td>\n",
       "    </tr>\n",
       "  </tbody>\n",
       "</table>\n",
       "</div>"
      ],
      "text/plain": [
       "  Mois Territoire\n",
       "0   03       PACA"
      ]
     },
     "execution_count": 295,
     "metadata": {},
     "output_type": "execute_result"
    }
   ],
   "source": [
    "user = pd.DataFrame({'Mois': ['03'], 'Territoire':['PACA']})\n",
    "user"
   ]
  },
  {
   "cell_type": "code",
   "execution_count": 296,
   "metadata": {},
   "outputs": [
    {
     "name": "stderr",
     "output_type": "stream",
     "text": [
      "/Users/quentingoubert/.pyenv/versions/simplon/lib/python3.8/site-packages/sklearn/base.py:443: UserWarning: X has feature names, but OneHotEncoder was fitted without feature names\n",
      "  warnings.warn(\n"
     ]
    },
    {
     "data": {
      "text/plain": [
       "<1x24 sparse matrix of type '<class 'numpy.float64'>'\n",
       "\twith 2 stored elements in Compressed Sparse Row format>"
      ]
     },
     "execution_count": 296,
     "metadata": {},
     "output_type": "execute_result"
    }
   ],
   "source": [
    "user_scaled = onehot.transform(user)\n",
    "user_scaled"
   ]
  },
  {
   "cell_type": "code",
   "execution_count": 298,
   "metadata": {},
   "outputs": [
    {
     "data": {
      "text/plain": [
       "array([3932.65316943])"
      ]
     },
     "execution_count": 298,
     "metadata": {},
     "output_type": "execute_result"
    }
   ],
   "source": [
    "model.predict(user_scaled) # Nous indique la catégorie identifiée par le model."
   ]
  },
  {
   "cell_type": "code",
   "execution_count": null,
   "metadata": {},
   "outputs": [],
   "source": []
  },
  {
   "cell_type": "code",
   "execution_count": null,
   "metadata": {},
   "outputs": [],
   "source": []
  }
 ],
 "metadata": {
  "kernelspec": {
   "display_name": "Python 3.8.12 64-bit ('shims')",
   "language": "python",
   "name": "python3"
  },
  "language_info": {
   "codemirror_mode": {
    "name": "ipython",
    "version": 3
   },
   "file_extension": ".py",
   "mimetype": "text/x-python",
   "name": "python",
   "nbconvert_exporter": "python",
   "pygments_lexer": "ipython3",
   "version": "3.8.12"
  },
  "orig_nbformat": 4,
  "vscode": {
   "interpreter": {
    "hash": "f933a098aafcc5b2714249abab26ce2df1705622304a7669624fac5d2e66f750"
   }
  }
 },
 "nbformat": 4,
 "nbformat_minor": 2
}
